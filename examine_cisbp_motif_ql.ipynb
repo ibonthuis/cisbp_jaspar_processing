{
 "cells": [
  {
   "cell_type": "code",
   "execution_count": 2,
   "metadata": {},
   "outputs": [],
   "source": [
    "import pandas as pd\n",
    "import sqlite3\n",
    "from os import listdir"
   ]
  },
  {
   "cell_type": "code",
   "execution_count": 1,
   "metadata": {},
   "outputs": [],
   "source": [
    "sql_file_path = '/div/pythagoras/u5/vipink/main/data_collection/downloaded_data/SQLDumps/cisbp_2.00.motif_all_test.sql'\n",
    "db_file_path = '/div/pythagoras/u5/vipink/main/data_collection/downloaded_data/cisbp_2.00.motif_all_test.db'\n",
    "tfs_db_file_path = '/div/pythagoras/u5/vipink/main/data_collection/downloaded_data/cisbp_2.00.tfs.db'"
   ]
  },
  {
   "cell_type": "code",
   "execution_count": 3,
   "metadata": {},
   "outputs": [],
   "source": [
    "conn = sqlite3.connect(db_file_path)\n",
    "cursor = conn.cursor()"
   ]
  },
  {
   "cell_type": "code",
   "execution_count": 4,
   "metadata": {},
   "outputs": [],
   "source": [
    "with open(sql_file_path, 'r') as file:\n",
    "    sql_script = file.read()\n",
    "sql_commands = sql_script.split(';')\n"
   ]
  },
  {
   "cell_type": "code",
   "execution_count": 5,
   "metadata": {},
   "outputs": [],
   "source": [
    "idx = 0\n",
    "for command in sql_commands:\n",
    "\n",
    "    command = command.strip()\n",
    "    if command:\n",
    "        try:\n",
    "            cursor.execute(command)\n",
    "        except sqlite3.Error as e:\n",
    "            print(f\"Error executing command: {command}\")\n",
    "            print(f\"Error message: {e}\")\n",
    "            print(idx)\n",
    "        idx+=1"
   ]
  },
  {
   "cell_type": "code",
   "execution_count": 6,
   "metadata": {},
   "outputs": [],
   "source": [
    "conn.commit()\n",
    "conn.close()"
   ]
  },
  {
   "cell_type": "code",
   "execution_count": 7,
   "metadata": {},
   "outputs": [],
   "source": [
    "connection = sqlite3.connect(db_file_path)\n",
    "\n",
    "# Step 2: Create a cursor and execute the query\n",
    "cursor = connection.cursor()\n",
    "query = \"SELECT MA_ID, Motif_ID, TF_ID, Species, Evidence FROM motif_all;\"\n",
    "cursor.execute(query)\n",
    "\n",
    "# Step 3: Fetch all TF_Name values\n",
    "motif_names = cursor.fetchall()\n",
    "\n",
    "connection.close()"
   ]
  },
  {
   "cell_type": "code",
   "execution_count": 9,
   "metadata": {},
   "outputs": [
    {
     "data": {
      "text/plain": [
       "('MA00000001_2.0',\n",
       " 'M01091_2.00',\n",
       " 'T000021_2.00',\n",
       " 'Drosophila_melanogaster',\n",
       " 'D')"
      ]
     },
     "execution_count": 9,
     "metadata": {},
     "output_type": "execute_result"
    }
   ],
   "source": [
    "motif_names[0]"
   ]
  },
  {
   "cell_type": "code",
   "execution_count": 10,
   "metadata": {},
   "outputs": [
    {
     "data": {
      "text/plain": [
       "10923158"
      ]
     },
     "execution_count": 10,
     "metadata": {},
     "output_type": "execute_result"
    }
   ],
   "source": [
    "len(motif_names)"
   ]
  },
  {
   "cell_type": "code",
   "execution_count": 11,
   "metadata": {},
   "outputs": [],
   "source": [
    "connection = sqlite3.connect(tfs_db_file_path)\n",
    "\n",
    "# Step 2: Create a cursor and execute the query\n",
    "cursor = connection.cursor()\n",
    "query = \"SELECT TF_Name,TF_Species, TF_ID FROM tfs;\"\n",
    "cursor.execute(query)\n",
    "\n",
    "# Step 3: Fetch all TF_Name values\n",
    "tf_names = cursor.fetchall()\n",
    "connection.close()\n"
   ]
  },
  {
   "cell_type": "code",
   "execution_count": 12,
   "metadata": {},
   "outputs": [
    {
     "name": "stdout",
     "output_type": "stream",
     "text": [
      "TF_Name entries:\n"
     ]
    }
   ],
   "source": [
    "print(\"TF_Name entries:\")\n",
    "name_list = []\n",
    "species_list = []\n",
    "cisbp_ID_list = []\n",
    "for row in tf_names:\n",
    "    name_list.append(row[0])\n",
    "    species_list.append(row[1])\n",
    "    cisbp_ID_list.append(row[2])  # Each row is a tuple with the TF_Name value as the first element"
   ]
  },
  {
   "cell_type": "code",
   "execution_count": 13,
   "metadata": {},
   "outputs": [],
   "source": [
    "motif_id_list = []\n",
    "tf_ID_list = []\n",
    "ma_ID_list = []\n",
    "species_ID_list = []\n",
    "evidence_list = []\n",
    "for row in motif_names:\n",
    "    ma_ID_list.append(row[0])\n",
    "    motif_id_list.append(row[1])\n",
    "    tf_ID_list.append(row[2])\n",
    "    species_ID_list.append(row[3])\n",
    "    evidence_list.append(row[4])\n",
    "\n",
    "    \n"
   ]
  },
  {
   "cell_type": "code",
   "execution_count": 14,
   "metadata": {},
   "outputs": [],
   "source": [
    "CISBP_motif_tbl = pd.DataFrame({'ma_ID':ma_ID_list,'motif_ID':motif_id_list,'tf_id':tf_ID_list,'species':species_ID_list,'evidence':evidence_list})\n",
    "CISBP_TF_tbl = pd.DataFrame({'name':name_list,'species':species_list,'tf_id':cisbp_ID_list})"
   ]
  },
  {
   "cell_type": "code",
   "execution_count": 12,
   "metadata": {},
   "outputs": [
    {
     "data": {
      "text/plain": [
       "evidence\n",
       "I    10911667\n",
       "D       11491\n",
       "Name: count, dtype: int64"
      ]
     },
     "execution_count": 12,
     "metadata": {},
     "output_type": "execute_result"
    }
   ],
   "source": [
    "CISBP_motif_tbl.evidence.value_counts()"
   ]
  },
  {
   "cell_type": "code",
   "execution_count": 15,
   "metadata": {},
   "outputs": [
    {
     "data": {
      "text/html": [
       "<div>\n",
       "<style scoped>\n",
       "    .dataframe tbody tr th:only-of-type {\n",
       "        vertical-align: middle;\n",
       "    }\n",
       "\n",
       "    .dataframe tbody tr th {\n",
       "        vertical-align: top;\n",
       "    }\n",
       "\n",
       "    .dataframe thead th {\n",
       "        text-align: right;\n",
       "    }\n",
       "</style>\n",
       "<table border=\"1\" class=\"dataframe\">\n",
       "  <thead>\n",
       "    <tr style=\"text-align: right;\">\n",
       "      <th></th>\n",
       "      <th>ma_ID</th>\n",
       "      <th>motif_ID</th>\n",
       "      <th>tf_id</th>\n",
       "      <th>species</th>\n",
       "      <th>evidence</th>\n",
       "      <th>name</th>\n",
       "    </tr>\n",
       "  </thead>\n",
       "  <tbody>\n",
       "    <tr>\n",
       "      <th>0</th>\n",
       "      <td>MA00000001_2.0</td>\n",
       "      <td>M01091_2.00</td>\n",
       "      <td>T000021_2.00</td>\n",
       "      <td>Drosophila_melanogaster</td>\n",
       "      <td>D</td>\n",
       "      <td>bnl</td>\n",
       "    </tr>\n",
       "    <tr>\n",
       "      <th>1</th>\n",
       "      <td>MA00000002_2.0</td>\n",
       "      <td>M00001_2.00</td>\n",
       "      <td>T000084_2.00</td>\n",
       "      <td>Saccharomyces_cerevisiae</td>\n",
       "      <td>D</td>\n",
       "      <td>ABF1</td>\n",
       "    </tr>\n",
       "    <tr>\n",
       "      <th>2</th>\n",
       "      <td>MA00000003_2.0</td>\n",
       "      <td>M00902_2.00</td>\n",
       "      <td>T000084_2.00</td>\n",
       "      <td>Saccharomyces_cerevisiae</td>\n",
       "      <td>D</td>\n",
       "      <td>ABF1</td>\n",
       "    </tr>\n",
       "    <tr>\n",
       "      <th>3</th>\n",
       "      <td>MA00000004_2.0</td>\n",
       "      <td>M07432_2.00</td>\n",
       "      <td>T000084_2.00</td>\n",
       "      <td>Saccharomyces_cerevisiae</td>\n",
       "      <td>D</td>\n",
       "      <td>ABF1</td>\n",
       "    </tr>\n",
       "    <tr>\n",
       "      <th>4</th>\n",
       "      <td>MA00000005_2.0</td>\n",
       "      <td>M08469_2.00</td>\n",
       "      <td>T000084_2.00</td>\n",
       "      <td>Saccharomyces_cerevisiae</td>\n",
       "      <td>D</td>\n",
       "      <td>ABF1</td>\n",
       "    </tr>\n",
       "    <tr>\n",
       "      <th>...</th>\n",
       "      <td>...</td>\n",
       "      <td>...</td>\n",
       "      <td>...</td>\n",
       "      <td>...</td>\n",
       "      <td>...</td>\n",
       "      <td>...</td>\n",
       "    </tr>\n",
       "    <tr>\n",
       "      <th>11486</th>\n",
       "      <td>MA10921841_2.0</td>\n",
       "      <td>M02629_2.00</td>\n",
       "      <td>T390654_2.00</td>\n",
       "      <td>Neurospora_crassa</td>\n",
       "      <td>D</td>\n",
       "      <td>NCU08848</td>\n",
       "    </tr>\n",
       "    <tr>\n",
       "      <th>11487</th>\n",
       "      <td>MA10921842_2.0</td>\n",
       "      <td>M02630_2.00</td>\n",
       "      <td>T390658_2.00</td>\n",
       "      <td>Neurospora_crassa</td>\n",
       "      <td>D</td>\n",
       "      <td>NCU09033</td>\n",
       "    </tr>\n",
       "    <tr>\n",
       "      <th>11488</th>\n",
       "      <td>MA10921843_2.0</td>\n",
       "      <td>M02631_2.00</td>\n",
       "      <td>T390668_2.00</td>\n",
       "      <td>Neurospora_crassa</td>\n",
       "      <td>D</td>\n",
       "      <td>NCU10258</td>\n",
       "    </tr>\n",
       "    <tr>\n",
       "      <th>11489</th>\n",
       "      <td>MA10921844_2.0</td>\n",
       "      <td>M01431_2.00</td>\n",
       "      <td>T390671_2.00</td>\n",
       "      <td>Neurospora_crassa</td>\n",
       "      <td>D</td>\n",
       "      <td>NCU10697</td>\n",
       "    </tr>\n",
       "    <tr>\n",
       "      <th>11490</th>\n",
       "      <td>MA10921845_2.0</td>\n",
       "      <td>M02632_2.00</td>\n",
       "      <td>T390676_2.00</td>\n",
       "      <td>Neurospora_crassa</td>\n",
       "      <td>D</td>\n",
       "      <td>NCU16793</td>\n",
       "    </tr>\n",
       "  </tbody>\n",
       "</table>\n",
       "<p>11491 rows × 6 columns</p>\n",
       "</div>"
      ],
      "text/plain": [
       "                ma_ID     motif_ID         tf_id                   species  \\\n",
       "0      MA00000001_2.0  M01091_2.00  T000021_2.00   Drosophila_melanogaster   \n",
       "1      MA00000002_2.0  M00001_2.00  T000084_2.00  Saccharomyces_cerevisiae   \n",
       "2      MA00000003_2.0  M00902_2.00  T000084_2.00  Saccharomyces_cerevisiae   \n",
       "3      MA00000004_2.0  M07432_2.00  T000084_2.00  Saccharomyces_cerevisiae   \n",
       "4      MA00000005_2.0  M08469_2.00  T000084_2.00  Saccharomyces_cerevisiae   \n",
       "...               ...          ...           ...                       ...   \n",
       "11486  MA10921841_2.0  M02629_2.00  T390654_2.00         Neurospora_crassa   \n",
       "11487  MA10921842_2.0  M02630_2.00  T390658_2.00         Neurospora_crassa   \n",
       "11488  MA10921843_2.0  M02631_2.00  T390668_2.00         Neurospora_crassa   \n",
       "11489  MA10921844_2.0  M01431_2.00  T390671_2.00         Neurospora_crassa   \n",
       "11490  MA10921845_2.0  M02632_2.00  T390676_2.00         Neurospora_crassa   \n",
       "\n",
       "      evidence      name  \n",
       "0            D       bnl  \n",
       "1            D      ABF1  \n",
       "2            D      ABF1  \n",
       "3            D      ABF1  \n",
       "4            D      ABF1  \n",
       "...        ...       ...  \n",
       "11486        D  NCU08848  \n",
       "11487        D  NCU09033  \n",
       "11488        D  NCU10258  \n",
       "11489        D  NCU10697  \n",
       "11490        D  NCU16793  \n",
       "\n",
       "[11491 rows x 6 columns]"
      ]
     },
     "execution_count": 15,
     "metadata": {},
     "output_type": "execute_result"
    }
   ],
   "source": [
    "CISBP_motif_tbl.query(\"evidence == 'D'\").merge(CISBP_TF_tbl.loc[:,['tf_id','name']],how='left')"
   ]
  },
  {
   "cell_type": "code",
   "execution_count": 16,
   "metadata": {},
   "outputs": [],
   "source": [
    "CISBP_motif_pwm_folder = \"/storage/mathelierarea/raw/CIS-BP/whole_collection/pwms/\""
   ]
  },
  {
   "cell_type": "code",
   "execution_count": 17,
   "metadata": {},
   "outputs": [],
   "source": [
    "JASPAR_metadata_tbl = pd.read_csv(\"/storage/mathelierarea/raw/JASPAR/2024/metadata/JASPAR_latest_profiles_metadata.tab\",sep=\"\\t\")"
   ]
  },
  {
   "cell_type": "code",
   "execution_count": 19,
   "metadata": {},
   "outputs": [
    {
     "data": {
      "text/plain": [
       "species\n",
       "Homo sapiens                 972\n",
       "Mus musculus                 926\n",
       "Arabidopsis thaliana         308\n",
       "Drosophila melanogaster      153\n",
       "Neurospora crassa            141\n",
       "Aspergillus nidulans          97\n",
       "Caenorhabditis elegans        93\n",
       "Saccharomyces cerevisiae      80\n",
       "Oryza sativa                  52\n",
       "Dictyostelium discoideum      39\n",
       "Cannabis sativa               30\n",
       "Ostreococcus tauri            27\n",
       "Nematostella vectensis        27\n",
       "Rattus norvegicus             26\n",
       "Caenorhabditis briggsae       23\n",
       "Petunia x hybrida             22\n",
       "Zea mays                      19\n",
       "Fusarium graminearum          18\n",
       "Triticum aestivum             16\n",
       "Histoplasma capsulatum        12\n",
       "Xenopus laevis                12\n",
       "Gallus gallus                 12\n",
       "Schizosaccharomyces pombe     12\n",
       "Schizophyllum commune         11\n",
       "Hordeum vulgare                9\n",
       "Phytophthora ramorum           8\n",
       "Puccinia graminis              7\n",
       "Ciona intestinalis             7\n",
       "Schistosoma mansoni            5\n",
       "Antirrhinum majus              4\n",
       "Solanum lycopersicum           4\n",
       "Medicago truncatula            3\n",
       "Glycine max                    3\n",
       "Cryptococcus neoformans        3\n",
       "Populus trichocarpa            1\n",
       "Name: count, dtype: int64"
      ]
     },
     "execution_count": 19,
     "metadata": {},
     "output_type": "execute_result"
    }
   ],
   "source": [
    "motifID_name_list = [f.split(\".txt\")[0] for f in listdir(CISBP_motif_pwm_folder)]\n",
    "\n",
    "motifID_path_list = [CISBP_motif_pwm_folder + f for f in listdir(CISBP_motif_pwm_folder)]\n",
    "\n",
    "cisbp_motif_path_df = pd.DataFrame({'motif_ID':motifID_name_list,'path':motifID_path_list})\n",
    "\n",
    "(CISBP_motif_tbl\n",
    ".query(\"evidence == 'D'\")\n",
    ".merge(CISBP_TF_tbl.loc[:,['tf_id','name']],how='left')\n",
    ".merge(cisbp_motif_path_df)\n",
    ".assign(species = lambda df_: [i.replace(\"_\",\" \")for i in df_.species])\n",
    ".merge(JASPAR_metadata_tbl.loc[:,['species','tax_group']].drop_duplicates(),how='inner')\n",
    ".merge(JASPAR_metadata_tbl.loc[:,['matrix_id','name','species']].drop_duplicates(),how='outer')\n",
    ".assign(not_in_JASPAR = lambda df_: df_.matrix_id.isna())\n",
    ".query(\"not_in_JASPAR\")\n",
    ".species.value_counts()\n",
    ")"
   ]
  }
 ],
 "metadata": {
  "kernelspec": {
   "display_name": "JASPAR_data_wrangling",
   "language": "python",
   "name": "python3"
  },
  "language_info": {
   "codemirror_mode": {
    "name": "ipython",
    "version": 3
   },
   "file_extension": ".py",
   "mimetype": "text/x-python",
   "name": "python",
   "nbconvert_exporter": "python",
   "pygments_lexer": "ipython3",
   "version": "3.12.0"
  }
 },
 "nbformat": 4,
 "nbformat_minor": 2
}
